{
 "cells": [
  {
   "cell_type": "code",
   "execution_count": 2,
   "id": "b8f13ee5",
   "metadata": {},
   "outputs": [
    {
     "name": "stdout",
     "output_type": "stream",
     "text": [
      "Enter a number---->67\n",
      "enter second number----->67\n",
      "enter third number---->67\n",
      "all the three numbers are equal\n"
     ]
    }
   ],
   "source": [
    "# find largest of three numbers.\n",
    "# a,b and c.  1) a>b and a>c a   2) b>a and b>c  b   3) c>a and c>b  c\n",
    "\n",
    "\n",
    "a=int(input(\"Enter a number---->\"))\n",
    "b=int(input(\"enter second number----->\"))\n",
    "c=int(input(\"enter third number---->\"))\n",
    "\n",
    "if a>b and b>c:\n",
    "    print(a,\"is greatest of all the numbers\")\n",
    "elif b>a and b>c:\n",
    "    print(b,\"is greatest of all numbers\")\n",
    "elif c>a and c>b:\n",
    "    print(c,\"is greatest of all numbers\")\n",
    "elif a==b and b==c and c==a:\n",
    "    print(\"all the three numbers are equal\")"
   ]
  },
  {
   "cell_type": "code",
   "execution_count": 1,
   "id": "6f66e660",
   "metadata": {},
   "outputs": [
    {
     "name": "stdout",
     "output_type": "stream",
     "text": [
      "enter your name---->gourav\n",
      "enter marks in english89\n",
      "enter marks in hindi88\n",
      "enter marks in maths87\n",
      "enter marks in science89\n",
      "enter marks in sst88\n",
      "hello gourav Thanks for appering the exam\n",
      "gourav you have secured 441 out of 500\n",
      "gourav you have secured 88.2 %\n",
      "first division\n"
     ]
    }
   ],
   "source": [
    "# program to input marks of 5 subjects of a student \n",
    "#and find the division of the student.\n",
    "#1) if per-90-100 topper 2) per-60-89 first  3) per 45-59 second 4) 33 - 44 third 4)fail \n",
    "name=input(\"enter your name---->\")\n",
    "eng=int(input(\"enter marks in english\"))\n",
    "hindi=int(input(\"enter marks in hindi\"))\n",
    "math=int(input(\"enter marks in maths\"))\n",
    "sci=int(input(\"enter marks in science\"))\n",
    "sst=int(input(\"enter marks in sst\"))\n",
    "print(\"hello\",name,\"Thanks for appering the exam\")\n",
    "total_marks=eng+hindi+math+sci+sst\n",
    "print(name,\"you have secured\",total_marks,\"out of 500\")\n",
    "per=total_marks/5\n",
    "print(name,\"you have secured\",per,\"%\")\n",
    "\n",
    "if per>=90 and per<=100:\n",
    "    print(\"topper division\")\n",
    "elif per>=60 and per<=89:\n",
    "    print(\"Your division is first division\")\n",
    "elif per>=45 and per<=59:\n",
    "    print(\"Your division is second division\")\n",
    "elif per>=33 and per<=44:\n",
    "    print(\"Your division is third division\")\n",
    "elif per>=0 and per<=32:\n",
    "    print(\"you have failed. TRY AGAIN!!!!\")\n",
    "else:\n",
    "    print(\"kindly enter marks of each student in between 0 and 100\")\n",
    "\n",
    "\n"
   ]
  },
  {
   "cell_type": "code",
   "execution_count": 5,
   "id": "1941fb73",
   "metadata": {},
   "outputs": [
    {
     "name": "stdout",
     "output_type": "stream",
     "text": [
      "enter any character(\n",
      "special character\n"
     ]
    }
   ],
   "source": [
    "#write a program to input a character and find whether that character\n",
    "# is an alphabet or a digit or a special character? \n",
    "# if you have found an alphabet ,then display whether it is in upper case or lower case.\n",
    "# a - lower case alphabet A- upper case alphabet 1- digit @ special symbol.\n",
    "\n",
    "char=input(\"enter any character\")\n",
    "\n",
    "if char>='A' and char<='Z' or char>='a' and char<='z':\n",
    "    print(\"alphabet\")\n",
    "    if char>='A' and char<='Z':\n",
    "        print(\"upper case\")\n",
    "    else:\n",
    "        print(\"lower case\")\n",
    "elif char>='0' and char<='9':\n",
    "    print(\"digit\")\n",
    "else:\n",
    "    print(\"special character\")\n"
   ]
  },
  {
   "cell_type": "code",
   "execution_count": 9,
   "id": "0c0d3df5",
   "metadata": {},
   "outputs": [
    {
     "name": "stdout",
     "output_type": "stream",
     "text": [
      "enter the value of a3\n",
      "enter the value of b7\n",
      "enter the value of c3\n",
      "3.0 x2+ 7.0 x+ 3.0 =0\n",
      "root 1 is -5.0916730868040165\n",
      "root 2 is -15.908326913195985\n"
     ]
    }
   ],
   "source": [
    "# python program to calculate the roots of a quadratic equation. ax2+bx+c=0 where a!=0\n",
    "a=float(input(\"enter the value of a\"))\n",
    "b=float(input(\"enter the value of b\"))\n",
    "c=float(input(\"enter the value of c\"))\n",
    "print(a,\"x2+\",b,\"x+\",c,\"=0\")\n",
    "if a==0:\n",
    "    print(\"a cannot be zero. please enter a valid value for a\")\n",
    "else:\n",
    "    d=b**2-4*a*c\n",
    "    if d==0:\n",
    "        r1=r2=-b/(2*a)\n",
    "        print(\"root 1 is\",r1)\n",
    "        print(\"root 2 is\",r2)\n",
    "    elif d>0:\n",
    "        r1=(-b+(d)**0.5)/2*a\n",
    "        r2=(-b-(d)**0.5)/2*a\n",
    "        print(\"root 1 is\",r1)\n",
    "        print(\"root 2 is\",r2)\n",
    "    else:\n",
    "        print(\"roots are complex and imaginary\")"
   ]
  },
  {
   "cell_type": "code",
   "execution_count": 10,
   "id": "50581f52",
   "metadata": {},
   "outputs": [
    {
     "name": "stdout",
     "output_type": "stream",
     "text": [
      "enter first number678\n",
      "enter second number234\n",
      "enter the operator '+'for addition,'-'for substraction,'*'for multiplication,'/'for division,'//'for quotient,'%'for remainder*\n",
      "678 * 234 = 158652\n"
     ]
    }
   ],
   "source": [
    "#program that reads two numbers and an arithmetic operator and display \n",
    "#the computed result. i.e 67,89,+ ,156 \n",
    "\n",
    "n1=int(input(\"enter first number\"))\n",
    "n2=int(input(\"enter second number\"))\n",
    "\n",
    "op=input(\"enter the operator '+'for addition,'-'for substraction,'*'for multiplication,'/'for division,'//'for quotient,'%'for remainder\")\n",
    "\n",
    "if op=='+':\n",
    "    result = n1+n2\n",
    "elif op=='-':\n",
    "    result = n1-n2\n",
    "elif op=='*':\n",
    "    result = n1*n2\n",
    "elif op=='/':\n",
    "    result = n1/n2\n",
    "elif op=='%':\n",
    "    result = n1%n2\n",
    "elif op=='//':\n",
    "    result=n1//n2\n",
    "else:\n",
    "    print(\"invalid operator\")\n",
    "print(n1,op,n2,'=',result)\n"
   ]
  },
  {
   "cell_type": "code",
   "execution_count": 12,
   "id": "4525b669",
   "metadata": {},
   "outputs": [
    {
     "name": "stdout",
     "output_type": "stream",
     "text": [
      "enter first number78\n",
      "enter second number56\n",
      "enter third number123\n",
      "numbers in assending order:- 56 78 123\n"
     ]
    }
   ],
   "source": [
    "# programs that reads three numbers and prints them in asscending order\n",
    "\n",
    "x=int(input(\"enter first number\"))\n",
    "y=int(input(\"enter second number\"))\n",
    "z=int(input(\"enter third number\"))\n",
    "\n",
    "min=mid=max=None\n",
    "\n",
    "if x<y and x<z:\n",
    "    if y<z:\n",
    "        min,mid,max=x,y,z\n",
    "    else:\n",
    "        min,mid,max=x,z,y\n",
    "elif y<x and y<z:\n",
    "    if x<z:\n",
    "        min,mid,max=y,x,z\n",
    "    else:\n",
    "        min,mid,max=y,z,x\n",
    "else:\n",
    "    if x<y:\n",
    "        min,mid,max=z,x,y\n",
    "    else:\n",
    "        min,mid,max=z,y,x\n",
    "print(\"numbers in assending order:-\",min,mid,max)"
   ]
  },
  {
   "cell_type": "code",
   "execution_count": 11,
   "id": "39fe5451",
   "metadata": {},
   "outputs": [
    {
     "name": "stdout",
     "output_type": "stream",
     "text": [
      "90 89 78\n"
     ]
    }
   ],
   "source": [
    "a,b,c=90,89,78\n",
    "print(a,b,c)"
   ]
  },
  {
   "cell_type": "code",
   "execution_count": null,
   "id": "bb986645",
   "metadata": {},
   "outputs": [],
   "source": []
  }
 ],
 "metadata": {
  "kernelspec": {
   "display_name": "Python 3",
   "language": "python",
   "name": "python3"
  },
  "language_info": {
   "codemirror_mode": {
    "name": "ipython",
    "version": 3
   },
   "file_extension": ".py",
   "mimetype": "text/x-python",
   "name": "python",
   "nbconvert_exporter": "python",
   "pygments_lexer": "ipython3",
   "version": "3.8.8"
  }
 },
 "nbformat": 4,
 "nbformat_minor": 5
}
