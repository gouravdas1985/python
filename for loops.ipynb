{
 "cells": [
  {
   "cell_type": "code",
   "execution_count": 1,
   "id": "5039efb6",
   "metadata": {},
   "outputs": [
    {
     "name": "stdout",
     "output_type": "stream",
     "text": [
      "gourav\n",
      "gourav\n",
      "gourav\n",
      "gourav\n",
      "gourav\n",
      "gourav\n",
      "gourav\n",
      "gourav\n",
      "gourav\n",
      "gourav\n"
     ]
    }
   ],
   "source": [
    "# print your name 10 times.\n",
    "\n",
    "print(\"gourav\")\n",
    "print(\"gourav\")\n",
    "print(\"gourav\")\n",
    "print(\"gourav\")\n",
    "print(\"gourav\")\n",
    "print(\"gourav\")\n",
    "print(\"gourav\")\n",
    "print(\"gourav\")\n",
    "print(\"gourav\")\n",
    "print(\"gourav\")"
   ]
  },
  {
   "cell_type": "code",
   "execution_count": 6,
   "id": "3b07ca59",
   "metadata": {},
   "outputs": [
    {
     "name": "stdout",
     "output_type": "stream",
     "text": [
      "gourav\n",
      "gourav\n",
      "gourav\n",
      "gourav\n",
      "gourav\n",
      "gourav\n",
      "gourav\n",
      "gourav\n",
      "gourav\n"
     ]
    }
   ],
   "source": [
    "# for loops\n",
    "\n",
    "for i in range(1,10):\n",
    "    print(\"gourav\")\n",
    "    \n",
    "    "
   ]
  },
  {
   "cell_type": "code",
   "execution_count": 4,
   "id": "113af3ea",
   "metadata": {},
   "outputs": [
    {
     "data": {
      "text/plain": [
       "range(6, 34)"
      ]
     },
     "execution_count": 4,
     "metadata": {},
     "output_type": "execute_result"
    }
   ],
   "source": [
    "range(6,34)"
   ]
  },
  {
   "cell_type": "code",
   "execution_count": 6,
   "id": "94f65a12",
   "metadata": {},
   "outputs": [
    {
     "name": "stdout",
     "output_type": "stream",
     "text": [
      "1\n",
      "4\n",
      "7\n",
      "10\n",
      "13\n",
      "16\n",
      "19\n"
     ]
    }
   ],
   "source": [
    "for i in range(1,21,3):\n",
    "    print(i)"
   ]
  },
  {
   "cell_type": "code",
   "execution_count": 7,
   "id": "69e9be78",
   "metadata": {},
   "outputs": [
    {
     "name": "stdout",
     "output_type": "stream",
     "text": [
      "166\n",
      "168\n",
      "170\n",
      "172\n",
      "174\n",
      "176\n",
      "178\n",
      "180\n",
      "182\n",
      "184\n",
      "186\n",
      "188\n",
      "190\n",
      "192\n",
      "194\n"
     ]
    }
   ],
   "source": [
    "# python program to display all the even numbers between 165 and 195. 166,168,170,172,174....194\n",
    "\n",
    "for i in range(165,196):\n",
    "    if i%2==0:\n",
    "        print(i)\n",
    "\n"
   ]
  },
  {
   "cell_type": "code",
   "execution_count": 8,
   "id": "c7d5f591",
   "metadata": {},
   "outputs": [
    {
     "name": "stdout",
     "output_type": "stream",
     "text": [
      "enter the start point:--10\n",
      "enter the stop point:--21\n",
      "the sum of square root of all even numbers is:-- 23.08281330419894\n"
     ]
    }
   ],
   "source": [
    "# python program to find the sum of square roots of all even numbers between a and b.\n",
    "# the value of a must be less than b.\n",
    "# a=78 b=98\n",
    "\n",
    "a= int(input(\"enter the start point:--\"))\n",
    "b=int(input(\"enter the stop point:--\"))\n",
    "\n",
    "if a>=b:\n",
    "    print(\"kindly enter a value of start point which should be smaller than value of stop point \")\n",
    "else:\n",
    "    sm = 0\n",
    "    for i in range(a,b+1):\n",
    "        if i%2==0:\n",
    "            sm=sm+(i**0.5)\n",
    "    print(\"the sum of square root of all even numbers is:--\",sm)\n",
    "            \n",
    "        \n",
    "            \n",
    "        \n",
    "    "
   ]
  },
  {
   "cell_type": "code",
   "execution_count": 11,
   "id": "b674dd35",
   "metadata": {},
   "outputs": [
    {
     "name": "stdout",
     "output_type": "stream",
     "text": [
      "enter a number:--12\n",
      "1,2,3,4,6,12,"
     ]
    }
   ],
   "source": [
    "# python program to input a number and find it's factors.\n",
    "# 12-----> 1,2,3,4,6,12\n",
    "\n",
    "num=int(input(\"enter a number:--\"))\n",
    "\n",
    "for i in range(1,num+1):\n",
    "    if num%i==0:\n",
    "        print(i,end=\",\")"
   ]
  },
  {
   "cell_type": "code",
   "execution_count": 12,
   "id": "dff5ced2",
   "metadata": {},
   "outputs": [
    {
     "name": "stdout",
     "output_type": "stream",
     "text": [
      "enter a number:--12\n",
      "the number of factors of 12 is:-- 6\n"
     ]
    }
   ],
   "source": [
    "# python program to input a number and count the no of it's factors.\n",
    "# 12 ----> The number of factors are:- 6\n",
    "\n",
    "num=int(input(\"enter a number:--\"))\n",
    "ct = 0\n",
    "for i in range(1,num+1):\n",
    "    if num%i==0:\n",
    "        ct=ct+1\n",
    "        \n",
    "print(\"the number of factors of\",num,\"is:--\",ct)"
   ]
  },
  {
   "cell_type": "code",
   "execution_count": 14,
   "id": "6ea0a22b",
   "metadata": {},
   "outputs": [
    {
     "name": "stdout",
     "output_type": "stream",
     "text": [
      "enter a number:--8\n",
      "8 is a composite number\n"
     ]
    }
   ],
   "source": [
    "# python program to find whether a number is prime or not?\n",
    "\n",
    "num=int(input(\"enter a number:--\"))\n",
    "ct = 0\n",
    "for i in range(1,num+1):\n",
    "    if num%i==0:\n",
    "        ct=ct+1\n",
    "        \n",
    "if ct==2:\n",
    "    print(num,\"is a prime number\")\n",
    "else:\n",
    "    print(num,\"is a composite number\")"
   ]
  },
  {
   "cell_type": "code",
   "execution_count": 1,
   "id": "5a05ea91",
   "metadata": {},
   "outputs": [
    {
     "name": "stdout",
     "output_type": "stream",
     "text": [
      "enter a number to find the factorial---->7\n",
      "the factorial of 7 is--> 5040\n"
     ]
    }
   ],
   "source": [
    "# python program to find the factorial of a number.\n",
    "# 6---> 6x5x4x3x2x1.\n",
    "num=int(input(\"enter a number to find the factorial---->\"))\n",
    "f=1\n",
    "for i in range(1,num+1):\n",
    "    f=f*i\n",
    "print(\"the factorial of\",num,\"is-->\",f)"
   ]
  },
  {
   "cell_type": "code",
   "execution_count": 2,
   "id": "48c32c5f",
   "metadata": {},
   "outputs": [
    {
     "name": "stdout",
     "output_type": "stream",
     "text": [
      "enter a number---->6\n",
      "6 x 1 = 6\n",
      "6 x 2 = 12\n",
      "6 x 3 = 18\n",
      "6 x 4 = 24\n",
      "6 x 5 = 30\n",
      "6 x 6 = 36\n",
      "6 x 7 = 42\n",
      "6 x 8 = 48\n",
      "6 x 9 = 54\n",
      "6 x 10 = 60\n",
      "6 x 11 = 66\n",
      "6 x 12 = 72\n",
      "6 x 13 = 78\n",
      "6 x 14 = 84\n",
      "6 x 15 = 90\n"
     ]
    }
   ],
   "source": [
    "#python program to find the multiplication table of a number.\n",
    "\n",
    "num=int(input(\"enter a number---->\"))\n",
    "for i in range(1,16):\n",
    "    print(num,\"x\",i,\"=\",num*i)\n"
   ]
  },
  {
   "cell_type": "code",
   "execution_count": 3,
   "id": "dee9f9d9",
   "metadata": {},
   "outputs": [
    {
     "name": "stdout",
     "output_type": "stream",
     "text": [
      "Enter the value of N---->5\n",
      "the sum of the series is----> 2.283333333333333\n"
     ]
    }
   ],
   "source": [
    "#Python Program to Find the Sum of the Series: 1 + 1/2 + 1/3 + ….. + 1/N\n",
    "\n",
    "sm=0\n",
    "N=int(input(\"Enter the value of N---->\"))\n",
    "for i in range(1,N+1):\n",
    "    sm=(sm+(1/i))\n",
    "print(\"the sum of the series is---->\",sm)"
   ]
  },
  {
   "cell_type": "code",
   "execution_count": 4,
   "id": "7a3b27d4",
   "metadata": {},
   "outputs": [
    {
     "name": "stdout",
     "output_type": "stream",
     "text": [
      "Enter the value of N---->10\n",
      "the sum of the series is----> 55\n"
     ]
    }
   ],
   "source": [
    "#Python Program to Find the Sum of First N Natural Numbers\n",
    "\n",
    "# N=10 1+2+3+4+....+10.\n",
    "sm=0\n",
    "N=int(input(\"Enter the value of N---->\"))\n",
    "for i in range(1,N+1):\n",
    "    sm=sm+i\n",
    "print(\"the sum of the series is---->\",sm)\n"
   ]
  },
  {
   "cell_type": "code",
   "execution_count": 5,
   "id": "e6ba3254",
   "metadata": {},
   "outputs": [
    {
     "name": "stdout",
     "output_type": "stream",
     "text": [
      "enter a number---->7\n",
      "enter the value of x---->2\n",
      "the sum of the series is----> 44.01904761904762\n"
     ]
    }
   ],
   "source": [
    "#Python Program to Find the Sum of the Series: 1 + x^2/2 + x^3/3 + … x^n/n\n",
    "\n",
    "sm=0\n",
    "n=int(input(\"enter a number---->\"))\n",
    "x=int(input(\"enter the value of x---->\"))\n",
    "for i in range(2,n+1):\n",
    "    sm=(sm+((x**i)/i))\n",
    "print(\"the sum of the series is---->\",sm)"
   ]
  },
  {
   "cell_type": "code",
   "execution_count": 1,
   "id": "81f6f607",
   "metadata": {},
   "outputs": [
    {
     "ename": "TclError",
     "evalue": "invalid command name \".!canvas\"",
     "output_type": "error",
     "traceback": [
      "\u001b[1;31m---------------------------------------------------------------------------\u001b[0m",
      "\u001b[1;31mTclError\u001b[0m                                  Traceback (most recent call last)",
      "\u001b[1;32m<ipython-input-1-a4b1b761805c>\u001b[0m in \u001b[0;36m<module>\u001b[1;34m\u001b[0m\n\u001b[0;32m      3\u001b[0m \u001b[1;32mfor\u001b[0m \u001b[0mi\u001b[0m \u001b[1;32min\u001b[0m \u001b[0mrange\u001b[0m\u001b[1;33m(\u001b[0m\u001b[1;36m9\u001b[0m\u001b[1;33m)\u001b[0m\u001b[1;33m:\u001b[0m\u001b[1;33m\u001b[0m\u001b[1;33m\u001b[0m\u001b[0m\n\u001b[0;32m      4\u001b[0m     \u001b[1;32mfor\u001b[0m \u001b[0mi\u001b[0m \u001b[1;32min\u001b[0m \u001b[0mrange\u001b[0m\u001b[1;33m(\u001b[0m\u001b[1;36m360\u001b[0m\u001b[1;33m)\u001b[0m\u001b[1;33m:\u001b[0m\u001b[1;33m\u001b[0m\u001b[1;33m\u001b[0m\u001b[0m\n\u001b[1;32m----> 5\u001b[1;33m         \u001b[0mt\u001b[0m\u001b[1;33m.\u001b[0m\u001b[0mforward\u001b[0m\u001b[1;33m(\u001b[0m\u001b[1;36m1\u001b[0m\u001b[1;33m)\u001b[0m\u001b[1;33m\u001b[0m\u001b[1;33m\u001b[0m\u001b[0m\n\u001b[0m\u001b[0;32m      6\u001b[0m         \u001b[0mt\u001b[0m\u001b[1;33m.\u001b[0m\u001b[0mright\u001b[0m\u001b[1;33m(\u001b[0m\u001b[1;36m1\u001b[0m\u001b[1;33m)\u001b[0m\u001b[1;33m\u001b[0m\u001b[1;33m\u001b[0m\u001b[0m\n\u001b[0;32m      7\u001b[0m     \u001b[0mt\u001b[0m\u001b[1;33m.\u001b[0m\u001b[0mright\u001b[0m\u001b[1;33m(\u001b[0m\u001b[1;36m40\u001b[0m\u001b[1;33m)\u001b[0m\u001b[1;33m\u001b[0m\u001b[1;33m\u001b[0m\u001b[0m\n",
      "\u001b[1;32m~\\anaconda3\\lib\\turtle.py\u001b[0m in \u001b[0;36mforward\u001b[1;34m(self, distance)\u001b[0m\n\u001b[0;32m   1636\u001b[0m         \u001b[1;33m(\u001b[0m\u001b[1;33m-\u001b[0m\u001b[1;36m50.00\u001b[0m\u001b[1;33m,\u001b[0m\u001b[1;36m0.00\u001b[0m\u001b[1;33m)\u001b[0m\u001b[1;33m\u001b[0m\u001b[1;33m\u001b[0m\u001b[0m\n\u001b[0;32m   1637\u001b[0m         \"\"\"\n\u001b[1;32m-> 1638\u001b[1;33m         \u001b[0mself\u001b[0m\u001b[1;33m.\u001b[0m\u001b[0m_go\u001b[0m\u001b[1;33m(\u001b[0m\u001b[0mdistance\u001b[0m\u001b[1;33m)\u001b[0m\u001b[1;33m\u001b[0m\u001b[1;33m\u001b[0m\u001b[0m\n\u001b[0m\u001b[0;32m   1639\u001b[0m \u001b[1;33m\u001b[0m\u001b[0m\n\u001b[0;32m   1640\u001b[0m     \u001b[1;32mdef\u001b[0m \u001b[0mback\u001b[0m\u001b[1;33m(\u001b[0m\u001b[0mself\u001b[0m\u001b[1;33m,\u001b[0m \u001b[0mdistance\u001b[0m\u001b[1;33m)\u001b[0m\u001b[1;33m:\u001b[0m\u001b[1;33m\u001b[0m\u001b[1;33m\u001b[0m\u001b[0m\n",
      "\u001b[1;32m~\\anaconda3\\lib\\turtle.py\u001b[0m in \u001b[0;36m_go\u001b[1;34m(self, distance)\u001b[0m\n\u001b[0;32m   1604\u001b[0m         \u001b[1;34m\"\"\"move turtle forward by specified distance\"\"\"\u001b[0m\u001b[1;33m\u001b[0m\u001b[1;33m\u001b[0m\u001b[0m\n\u001b[0;32m   1605\u001b[0m         \u001b[0mende\u001b[0m \u001b[1;33m=\u001b[0m \u001b[0mself\u001b[0m\u001b[1;33m.\u001b[0m\u001b[0m_position\u001b[0m \u001b[1;33m+\u001b[0m \u001b[0mself\u001b[0m\u001b[1;33m.\u001b[0m\u001b[0m_orient\u001b[0m \u001b[1;33m*\u001b[0m \u001b[0mdistance\u001b[0m\u001b[1;33m\u001b[0m\u001b[1;33m\u001b[0m\u001b[0m\n\u001b[1;32m-> 1606\u001b[1;33m         \u001b[0mself\u001b[0m\u001b[1;33m.\u001b[0m\u001b[0m_goto\u001b[0m\u001b[1;33m(\u001b[0m\u001b[0mende\u001b[0m\u001b[1;33m)\u001b[0m\u001b[1;33m\u001b[0m\u001b[1;33m\u001b[0m\u001b[0m\n\u001b[0m\u001b[0;32m   1607\u001b[0m \u001b[1;33m\u001b[0m\u001b[0m\n\u001b[0;32m   1608\u001b[0m     \u001b[1;32mdef\u001b[0m \u001b[0m_rotate\u001b[0m\u001b[1;33m(\u001b[0m\u001b[0mself\u001b[0m\u001b[1;33m,\u001b[0m \u001b[0mangle\u001b[0m\u001b[1;33m)\u001b[0m\u001b[1;33m:\u001b[0m\u001b[1;33m\u001b[0m\u001b[1;33m\u001b[0m\u001b[0m\n",
      "\u001b[1;32m~\\anaconda3\\lib\\turtle.py\u001b[0m in \u001b[0;36m_goto\u001b[1;34m(self, end)\u001b[0m\n\u001b[0;32m   3157\u001b[0m                       (self.currentLineItem,\n\u001b[0;32m   3158\u001b[0m                       \u001b[0mself\u001b[0m\u001b[1;33m.\u001b[0m\u001b[0mcurrentLine\u001b[0m\u001b[1;33m[\u001b[0m\u001b[1;33m:\u001b[0m\u001b[1;33m]\u001b[0m\u001b[1;33m,\u001b[0m\u001b[1;33m\u001b[0m\u001b[1;33m\u001b[0m\u001b[0m\n\u001b[1;32m-> 3159\u001b[1;33m                       \u001b[0mscreen\u001b[0m\u001b[1;33m.\u001b[0m\u001b[0m_pointlist\u001b[0m\u001b[1;33m(\u001b[0m\u001b[0mself\u001b[0m\u001b[1;33m.\u001b[0m\u001b[0mcurrentLineItem\u001b[0m\u001b[1;33m)\u001b[0m\u001b[1;33m,\u001b[0m\u001b[1;33m\u001b[0m\u001b[1;33m\u001b[0m\u001b[0m\n\u001b[0m\u001b[0;32m   3160\u001b[0m                       self.items[:])\n\u001b[0;32m   3161\u001b[0m                       )\n",
      "\u001b[1;32m~\\anaconda3\\lib\\turtle.py\u001b[0m in \u001b[0;36m_pointlist\u001b[1;34m(self, item)\u001b[0m\n\u001b[0;32m    754\u001b[0m         (9.9999999999999982, 0.0)]\n\u001b[0;32m    755\u001b[0m         >>> \"\"\"\n\u001b[1;32m--> 756\u001b[1;33m         \u001b[0mcl\u001b[0m \u001b[1;33m=\u001b[0m \u001b[0mself\u001b[0m\u001b[1;33m.\u001b[0m\u001b[0mcv\u001b[0m\u001b[1;33m.\u001b[0m\u001b[0mcoords\u001b[0m\u001b[1;33m(\u001b[0m\u001b[0mitem\u001b[0m\u001b[1;33m)\u001b[0m\u001b[1;33m\u001b[0m\u001b[1;33m\u001b[0m\u001b[0m\n\u001b[0m\u001b[0;32m    757\u001b[0m         \u001b[0mpl\u001b[0m \u001b[1;33m=\u001b[0m \u001b[1;33m[\u001b[0m\u001b[1;33m(\u001b[0m\u001b[0mcl\u001b[0m\u001b[1;33m[\u001b[0m\u001b[0mi\u001b[0m\u001b[1;33m]\u001b[0m\u001b[1;33m,\u001b[0m \u001b[1;33m-\u001b[0m\u001b[0mcl\u001b[0m\u001b[1;33m[\u001b[0m\u001b[0mi\u001b[0m\u001b[1;33m+\u001b[0m\u001b[1;36m1\u001b[0m\u001b[1;33m]\u001b[0m\u001b[1;33m)\u001b[0m \u001b[1;32mfor\u001b[0m \u001b[0mi\u001b[0m \u001b[1;32min\u001b[0m \u001b[0mrange\u001b[0m\u001b[1;33m(\u001b[0m\u001b[1;36m0\u001b[0m\u001b[1;33m,\u001b[0m \u001b[0mlen\u001b[0m\u001b[1;33m(\u001b[0m\u001b[0mcl\u001b[0m\u001b[1;33m)\u001b[0m\u001b[1;33m,\u001b[0m \u001b[1;36m2\u001b[0m\u001b[1;33m)\u001b[0m\u001b[1;33m]\u001b[0m\u001b[1;33m\u001b[0m\u001b[1;33m\u001b[0m\u001b[0m\n\u001b[0;32m    758\u001b[0m         \u001b[1;32mreturn\u001b[0m  \u001b[0mpl\u001b[0m\u001b[1;33m\u001b[0m\u001b[1;33m\u001b[0m\u001b[0m\n",
      "\u001b[1;32m<string>\u001b[0m in \u001b[0;36mcoords\u001b[1;34m(self, *args, **kw)\u001b[0m\n",
      "\u001b[1;32m~\\anaconda3\\lib\\tkinter\\__init__.py\u001b[0m in \u001b[0;36mcoords\u001b[1;34m(self, *args)\u001b[0m\n\u001b[0;32m   2764\u001b[0m         return [self.tk.getdouble(x) for x in\n\u001b[0;32m   2765\u001b[0m                            self.tk.splitlist(\n\u001b[1;32m-> 2766\u001b[1;33m                    self.tk.call((self._w, 'coords') + args))]\n\u001b[0m\u001b[0;32m   2767\u001b[0m \u001b[1;33m\u001b[0m\u001b[0m\n\u001b[0;32m   2768\u001b[0m     \u001b[1;32mdef\u001b[0m \u001b[0m_create\u001b[0m\u001b[1;33m(\u001b[0m\u001b[0mself\u001b[0m\u001b[1;33m,\u001b[0m \u001b[0mitemType\u001b[0m\u001b[1;33m,\u001b[0m \u001b[0margs\u001b[0m\u001b[1;33m,\u001b[0m \u001b[0mkw\u001b[0m\u001b[1;33m)\u001b[0m\u001b[1;33m:\u001b[0m \u001b[1;31m# Args: (val, val, ..., cnf={})\u001b[0m\u001b[1;33m\u001b[0m\u001b[1;33m\u001b[0m\u001b[0m\n",
      "\u001b[1;31mTclError\u001b[0m: invalid command name \".!canvas\""
     ]
    }
   ],
   "source": [
    "import turtle\n",
    "t=turtle.Turtle()\n",
    "for i in range(9):\n",
    "    for i in range(360):\n",
    "        t.forward(1)\n",
    "        t.right(1)\n",
    "    t.right(40)"
   ]
  },
  {
   "cell_type": "code",
   "execution_count": null,
   "id": "cc7a7de4",
   "metadata": {},
   "outputs": [],
   "source": []
  }
 ],
 "metadata": {
  "kernelspec": {
   "display_name": "Python 3",
   "language": "python",
   "name": "python3"
  },
  "language_info": {
   "codemirror_mode": {
    "name": "ipython",
    "version": 3
   },
   "file_extension": ".py",
   "mimetype": "text/x-python",
   "name": "python",
   "nbconvert_exporter": "python",
   "pygments_lexer": "ipython3",
   "version": "3.8.8"
  }
 },
 "nbformat": 4,
 "nbformat_minor": 5
}
